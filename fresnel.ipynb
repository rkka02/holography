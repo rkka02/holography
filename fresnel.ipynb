{
 "cells": [
  {
   "cell_type": "code",
   "execution_count": 1,
   "id": "08ce7e51",
   "metadata": {},
   "outputs": [],
   "source": [
    "import numpy as np\n",
    "import matplotlib.pyplot as plt\n",
    "from PIL import Image\n",
    "import cv2"
   ]
  },
  {
   "cell_type": "code",
   "execution_count": 26,
   "id": "7d0f6497",
   "metadata": {},
   "outputs": [],
   "source": [
    "N = 600\n",
    "dx = 12.5e-6\n",
    "L = N * dx\n",
    "\n",
    "lam = 532e-9\n",
    "k = 2 * np.pi / lam\n",
    "z = -120e-3\n",
    "\n",
    "x = np.linspace(-L/2, L/2, N)\n",
    "y = x\n",
    "X, Y = np.meshgrid(x, y)"
   ]
  },
  {
   "cell_type": "code",
   "execution_count": 28,
   "id": "a684ecae",
   "metadata": {},
   "outputs": [],
   "source": [
    "from PIL import Image\n",
    "import numpy as np\n",
    "import matplotlib.pyplot as plt\n",
    "import cv2\n",
    "\n",
    "um = 1e-6\n",
    "mm = 1e-3\n",
    "\n",
    "def ASM(image, lam, dx, z):\n",
    "    k = 2 * np.pi / lam\n",
    "    N = image.shape[0]\n",
    "    df = 1 / N / dx\n",
    "    \n",
    "    fx = np.arange(-N//2, N//2) * df\n",
    "    fy = fx\n",
    "\n",
    "    Fx, Fy = np.meshgrid(fx, fy)\n",
    "    \n",
    "    kz_squared = k**2 - (2 * np.pi * Fx)**2 - (2 * np.pi * Fy)**2\n",
    "    kz_squared[kz_squared<0] = 0\n",
    "    kz = np.sqrt(kz_squared)\n",
    "    Hz = np.exp(1j * kz * z)\n",
    "    \n",
    "    fimage = np.fft.fftshift(np.fft.fft2(image))\n",
    "    fimage = fimage * Hz\n",
    "    pimage = np.fft.ifft2(np.fft.ifftshift(fimage))\n",
    "    \n",
    "    return pimage"
   ]
  },
  {
   "cell_type": "code",
   "execution_count": 29,
   "id": "2be8bfa2",
   "metadata": {},
   "outputs": [],
   "source": [
    "image = Image.open('target.png').convert('L')\n",
    "image = np.array(image)\n",
    "image = cv2.resize(image, dsize=(N,N))\n",
    "# image = 255 - image"
   ]
  },
  {
   "cell_type": "code",
   "execution_count": 34,
   "id": "8c856362",
   "metadata": {},
   "outputs": [],
   "source": [
    "z = -80e-3\n",
    "image = ASM(image, lam, 12.5*um, z)\n",
    "image = np.abs(image)**2\n",
    "image = image / np.max(image) * 255\n",
    "Image.fromarray(image.astype('uint8')).save('test.png')"
   ]
  },
  {
   "cell_type": "code",
   "execution_count": 15,
   "id": "f42e6858",
   "metadata": {},
   "outputs": [],
   "source": [
    "def fresnel(image, lam, z):\n",
    "    coeff = np.exp(1j * k * z) / (1j * lam * z)\n",
    "    kernel = coeff * np.exp(1j * k / 2 / z * (X**2 + Y**2))\n",
    "    transfer = np.fft.fftshift(np.fft.fft2(kernel))\n",
    "\n",
    "    f_image = np.fft.fftshift(np.fft.fft2(image))\n",
    "    f_image = f_image * transfer\n",
    "    image = np.fft.ifft2(np.fft.ifftshift(f_image))\n",
    "    image = np.fft.fftshift(image) # Don't know why do this but this should be exist\n",
    "    return image"
   ]
  },
  {
   "cell_type": "code",
   "execution_count": 27,
   "id": "3e96a101",
   "metadata": {},
   "outputs": [],
   "source": [
    "image = Image.open('target.png').convert('L')\n",
    "image = np.array(image)\n",
    "image = cv2.resize(image, dsize=(N,N))\n",
    "# image = 255 - image\n",
    "\n",
    "coeff = np.exp(1j * k * z) / (1j * lam * z)\n",
    "kernel = coeff * np.exp(1j * k / 2 / z * (X**2 + Y**2))\n",
    "transfer = np.fft.fftshift(np.fft.fft2(kernel))\n",
    "\n",
    "f_image = np.fft.fftshift(np.fft.fft2(image))\n",
    "f_image = f_image * transfer\n",
    "image = np.fft.ifft2(np.fft.ifftshift(f_image))\n",
    "image = np.fft.fftshift(image) # Don't know why do this but this should be exist\n",
    "\n",
    "phase = np.angle(image)\n",
    "phase = (phase - np.min(phase)) / (np.max(phase) - np.min(phase))\n",
    "phase = phase * 255\n",
    "Image.fromarray(phase.astype('uint8')).save('test.png')"
   ]
  },
  {
   "cell_type": "code",
   "execution_count": 6,
   "id": "c530f7ab",
   "metadata": {},
   "outputs": [
    {
     "data": {
      "text/plain": [
       "True"
      ]
     },
     "execution_count": 6,
     "metadata": {},
     "output_type": "execute_result"
    }
   ],
   "source": [
    "from lucam import Lucam\n",
    "\n",
    "# ‼️ 실제 카메라 촬영 로직\n",
    "camera = Lucam()\n",
    "capture = camera.TakeSnapshot()\n",
    "capture = cv2.resize(capture, dsize=(N, N))\n",
    "cv2.imwrite('test.png', capture)"
   ]
  }
 ],
 "metadata": {
  "kernelspec": {
   "display_name": "holo",
   "language": "python",
   "name": "python3"
  },
  "language_info": {
   "codemirror_mode": {
    "name": "ipython",
    "version": 3
   },
   "file_extension": ".py",
   "mimetype": "text/x-python",
   "name": "python",
   "nbconvert_exporter": "python",
   "pygments_lexer": "ipython3",
   "version": "3.12.9"
  }
 },
 "nbformat": 4,
 "nbformat_minor": 5
}
