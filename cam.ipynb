{
 "cells": [
  {
   "cell_type": "code",
   "execution_count": 1,
   "id": "77c99e60",
   "metadata": {},
   "outputs": [],
   "source": [
    "from lucam import Lucam"
   ]
  },
  {
   "cell_type": "code",
   "execution_count": 286,
   "id": "ccbe976b",
   "metadata": {},
   "outputs": [],
   "source": [
    "cam = Lucam()\n",
    "capture = cam.TakeSnapshot()\n",
    "cam.SaveImage(capture, 'test.png')\n",
    "cam.CameraClose()"
   ]
  },
  {
   "cell_type": "code",
   "execution_count": 1,
   "id": "4f864be4",
   "metadata": {},
   "outputs": [],
   "source": [
    "from PIL import Image\n",
    "import numpy as np\n",
    "import matplotlib.pyplot as plt\n",
    "import cv2\n",
    "\n",
    "um = 1e-6\n",
    "mm = 1e-3\n",
    "\n",
    "def ASM(image, lam, dx, z):\n",
    "    k = 2 * np.pi / lam\n",
    "    N = image.shape[0]\n",
    "    df = 1 / N / dx\n",
    "    \n",
    "    fx = np.arange(-N//2, N//2) * df\n",
    "    fy = fx\n",
    "\n",
    "    Fx, Fy = np.meshgrid(fx, fy)\n",
    "    \n",
    "    kz_squared = k**2 - (2 * np.pi * Fx)**2 - (2 * np.pi * Fy)**2\n",
    "    kz_squared[kz_squared<0] = 0\n",
    "    kz = np.sqrt(kz_squared)\n",
    "    Hz = np.exp(1j * kz * z)\n",
    "    \n",
    "    fimage = np.fft.fftshift(np.fft.fft2(image))\n",
    "    fimage = fimage * Hz\n",
    "    pimage = np.fft.ifft2(np.fft.ifftshift(fimage))\n",
    "    \n",
    "    return pimage"
   ]
  },
  {
   "cell_type": "code",
   "execution_count": 6,
   "id": "d1066b7b",
   "metadata": {},
   "outputs": [],
   "source": [
    "from PIL import Image\n",
    "import numpy as np\n",
    "import cv2\n",
    "import torch\n",
    "from lucam import Lucam\n",
    "import napari\n",
    "\n",
    "um = 1e-6\n",
    "mm = 1e-3\n",
    "\n",
    "def ASM_cuda(image, lam, dx, z):\n",
    "    k = 2 * np.pi / lam\n",
    "    N = image.shape[0]\n",
    "    df = 1 / N / dx\n",
    "    \n",
    "    fx = np.arange(-N//2, N//2) * df\n",
    "    fy = fx\n",
    "\n",
    "    Fx, Fy = np.meshgrid(fx, fy)\n",
    "    \n",
    "    kz_squared = k**2 - (2 * np.pi * Fx)**2 - (2 * np.pi * Fy)**2\n",
    "    kz_squared[kz_squared<0] = 0\n",
    "    kz = np.sqrt(kz_squared)\n",
    "    Hz = np.exp(1j * kz * z)\n",
    "\n",
    "    Hz = torch.from_numpy(Hz).cuda()\n",
    "    \n",
    "    fimage = torch.fft.fftshift(torch.fft.fft2(image))\n",
    "    fimage = fimage * Hz\n",
    "    pimage = torch.fft.ifft2(torch.fft.ifftshift(fimage))\n",
    "    \n",
    "    return pimage"
   ]
  },
  {
   "cell_type": "code",
   "execution_count": 177,
   "id": "966415a9",
   "metadata": {},
   "outputs": [],
   "source": [
    "def fresnel(image, lam, dx, z):\n",
    "\n",
    "    N = 600\n",
    "    L = N * dx\n",
    "\n",
    "    x = np.linspace(-L/2, L/2, N)\n",
    "    y = x\n",
    "    X, Y = np.meshgrid(x, y)\n",
    "\n",
    "    k = 2 * np.pi / lam\n",
    "    coeff = np.exp(1j * k * z) / (1j * lam * z)\n",
    "    kernel = coeff * np.exp(1j * k / 2 / z * (X**2 + Y**2))\n",
    "    transfer = np.fft.fftshift(np.fft.fft2(kernel))\n",
    "\n",
    "    f_image = np.fft.fftshift(np.fft.fft2(image))\n",
    "    f_image = f_image * transfer\n",
    "    image = np.fft.ifft2(np.fft.ifftshift(f_image))\n",
    "    image = np.fft.fftshift(image) # Don't know why do this but this should be exist\n",
    "    return image"
   ]
  },
  {
   "cell_type": "code",
   "execution_count": 3,
   "id": "5e5b3fc6",
   "metadata": {},
   "outputs": [],
   "source": [
    "def fresnel_cuda(image, lam, dx, z):\n",
    "\n",
    "    N = 600\n",
    "    L = N * dx\n",
    "\n",
    "    x = np.linspace(-L/2, L/2, N)\n",
    "    y = x\n",
    "    X, Y = np.meshgrid(x, y)\n",
    "\n",
    "    k = 2 * np.pi / lam\n",
    "    coeff = np.exp(1j * k * z) / (1j * lam * z)\n",
    "    kernel = coeff * np.exp(1j * k / 2 / z * (X**2 + Y**2))\n",
    "    transfer = np.fft.fftshift(np.fft.fft2(kernel))\n",
    "\n",
    "    transfer = torch.from_numpy(transfer).cuda()\n",
    "    \n",
    "    f_image = torch.fft.fftshift(torch.fft.fft2(image))\n",
    "    f_image = f_image * transfer\n",
    "    image = torch.fft.ifft2(torch.fft.ifftshift(f_image))\n",
    "    image = torch.fft.fftshift(image) # Don't know why do this but this should be exist\n",
    "    return image"
   ]
  },
  {
   "cell_type": "code",
   "execution_count": 9,
   "id": "a7bdcd62",
   "metadata": {},
   "outputs": [
    {
     "data": {
      "text/plain": [
       "(600, 600)"
      ]
     },
     "execution_count": 9,
     "metadata": {},
     "output_type": "execute_result"
    }
   ],
   "source": [
    "image = Image.open('rikka_edge.png').convert('L')\n",
    "image = np.array(image)\n",
    "image = cv2.resize(image, dsize=(600,600))\n",
    "N = 600\n",
    "image.shape"
   ]
  },
  {
   "cell_type": "code",
   "execution_count": 187,
   "id": "3a6652f8",
   "metadata": {},
   "outputs": [],
   "source": [
    "image = 255 - image"
   ]
  },
  {
   "cell_type": "markdown",
   "id": "04f79912",
   "metadata": {},
   "source": [
    "<h1> Gerchbach-Saxton </h1>"
   ]
  },
  {
   "cell_type": "code",
   "execution_count": 188,
   "id": "5b07122a",
   "metadata": {},
   "outputs": [],
   "source": [
    "slm_phase = np.ones((N,N)) * np.pi\n",
    "slm_field = np.exp(1j * slm_phase)\n",
    "\n",
    "target = image.copy()"
   ]
  },
  {
   "cell_type": "code",
   "execution_count": 175,
   "id": "bc4f765c",
   "metadata": {},
   "outputs": [
    {
     "name": "stderr",
     "output_type": "stream",
     "text": [
      "  5%|▌         | 10/200 [00:02<00:53,  3.56it/s]"
     ]
    },
    {
     "name": "stdout",
     "output_type": "stream",
     "text": [
      "Iteration 10/200 completed.\n",
      "0.020070159764653792\n"
     ]
    },
    {
     "name": "stderr",
     "output_type": "stream",
     "text": [
      " 10%|█         | 20/200 [00:05<00:48,  3.68it/s]"
     ]
    },
    {
     "name": "stdout",
     "output_type": "stream",
     "text": [
      "Iteration 20/200 completed.\n",
      "0.01995372905841479\n"
     ]
    },
    {
     "name": "stderr",
     "output_type": "stream",
     "text": [
      " 15%|█▌        | 30/200 [00:07<00:46,  3.65it/s]"
     ]
    },
    {
     "name": "stdout",
     "output_type": "stream",
     "text": [
      "Iteration 30/200 completed.\n",
      "0.021104012842585552\n"
     ]
    },
    {
     "name": "stderr",
     "output_type": "stream",
     "text": [
      " 16%|█▌        | 32/200 [00:08<00:43,  3.82it/s]\n"
     ]
    },
    {
     "ename": "KeyboardInterrupt",
     "evalue": "",
     "output_type": "error",
     "traceback": [
      "\u001b[31m---------------------------------------------------------------------------\u001b[39m",
      "\u001b[31mKeyboardInterrupt\u001b[39m                         Traceback (most recent call last)",
      "\u001b[36mCell\u001b[39m\u001b[36m \u001b[39m\u001b[32mIn[175]\u001b[39m\u001b[32m, line 12\u001b[39m\n\u001b[32m     10\u001b[39m field_at_target_plane = fresnel(slm_field, lam, dx, z)\n\u001b[32m     11\u001b[39m desired_field_at_target = np.sqrt(image/np.max(image)) * np.exp(\u001b[32m1\u001b[39mj * np.angle(field_at_target_plane))\n\u001b[32m---> \u001b[39m\u001b[32m12\u001b[39m field_at_slm_plane = \u001b[43mfresnel\u001b[49m\u001b[43m(\u001b[49m\u001b[43mdesired_field_at_target\u001b[49m\u001b[43m,\u001b[49m\u001b[43m \u001b[49m\u001b[43mlam\u001b[49m\u001b[43m,\u001b[49m\u001b[43m \u001b[49m\u001b[43mdx\u001b[49m\u001b[43m,\u001b[49m\u001b[43m \u001b[49m\u001b[43m-\u001b[49m\u001b[43mz\u001b[49m\u001b[43m)\u001b[49m\n\u001b[32m     13\u001b[39m slm_field = np.exp(\u001b[32m1\u001b[39mj * np.angle(field_at_slm_plane))\n\u001b[32m     15\u001b[39m \u001b[38;5;28;01mif\u001b[39;00m (i + \u001b[32m1\u001b[39m) % \u001b[32m10\u001b[39m == \u001b[32m0\u001b[39m:\n",
      "\u001b[36mCell\u001b[39m\u001b[36m \u001b[39m\u001b[32mIn[162]\u001b[39m\u001b[32m, line 12\u001b[39m, in \u001b[36mfresnel\u001b[39m\u001b[34m(image, lam, dx, z)\u001b[39m\n\u001b[32m     10\u001b[39m k = \u001b[32m2\u001b[39m * np.pi / lam\n\u001b[32m     11\u001b[39m coeff = np.exp(\u001b[32m1\u001b[39mj * k * z) / (\u001b[32m1\u001b[39mj * lam * z)\n\u001b[32m---> \u001b[39m\u001b[32m12\u001b[39m kernel = coeff * \u001b[43mnp\u001b[49m\u001b[43m.\u001b[49m\u001b[43mexp\u001b[49m\u001b[43m(\u001b[49m\u001b[32;43m1\u001b[39;49m\u001b[43mj\u001b[49m\u001b[43m \u001b[49m\u001b[43m*\u001b[49m\u001b[43m \u001b[49m\u001b[43mk\u001b[49m\u001b[43m \u001b[49m\u001b[43m/\u001b[49m\u001b[43m \u001b[49m\u001b[32;43m2\u001b[39;49m\u001b[43m \u001b[49m\u001b[43m/\u001b[49m\u001b[43m \u001b[49m\u001b[43mz\u001b[49m\u001b[43m \u001b[49m\u001b[43m*\u001b[49m\u001b[43m \u001b[49m\u001b[43m(\u001b[49m\u001b[43mX\u001b[49m\u001b[43m*\u001b[49m\u001b[43m*\u001b[49m\u001b[32;43m2\u001b[39;49m\u001b[43m \u001b[49m\u001b[43m+\u001b[49m\u001b[43m \u001b[49m\u001b[43mY\u001b[49m\u001b[43m*\u001b[49m\u001b[43m*\u001b[49m\u001b[32;43m2\u001b[39;49m\u001b[43m)\u001b[49m\u001b[43m)\u001b[49m\n\u001b[32m     13\u001b[39m transfer = np.fft.fftshift(np.fft.fft2(kernel))\n\u001b[32m     15\u001b[39m f_image = np.fft.fftshift(np.fft.fft2(image))\n",
      "\u001b[31mKeyboardInterrupt\u001b[39m: "
     ]
    }
   ],
   "source": [
    "from tqdm import tqdm\n",
    "\n",
    "lam = 0.532 * um\n",
    "dx = 12.5 * um\n",
    "z = 200 * mm\n",
    "\n",
    "errors = []\n",
    "\n",
    "for i in tqdm(range(200)):\n",
    "    field_at_target_plane = fresnel(slm_field, lam, dx, z)\n",
    "    desired_field_at_target = np.sqrt(image/np.max(image)) * np.exp(1j * np.angle(field_at_target_plane))\n",
    "    field_at_slm_plane = fresnel(desired_field_at_target, lam, dx, -z)\n",
    "    slm_field = np.exp(1j * np.angle(field_at_slm_plane))\n",
    "    \n",
    "    if (i + 1) % 10 == 0:\n",
    "        print(f\"Iteration {i+1}/{200} completed.\")\n",
    "        # Optional: Calculate and display current reconstruction\n",
    "        current_reconstruction_field = fresnel(slm_field, lam, dx, z)\n",
    "        current_reconstruction_intensity = np.abs(current_reconstruction_field)**2\n",
    "        \n",
    "        target = image.copy()\n",
    "        current = current_reconstruction_intensity.copy()\n",
    "        target = target / np.max(target)\n",
    "        current = current / np.max(current)\n",
    "        \n",
    "        error = np.sum(np.abs(target-current)**2)/N/N\n",
    "        print(error)\n",
    "        \n",
    "        errors.append(error)\n",
    "        \n",
    "        "
   ]
  },
  {
   "cell_type": "code",
   "execution_count": 7,
   "id": "0305081c",
   "metadata": {},
   "outputs": [
    {
     "ename": "NameError",
     "evalue": "name 'slm_field' is not defined",
     "output_type": "error",
     "traceback": [
      "\u001b[31m---------------------------------------------------------------------------\u001b[39m",
      "\u001b[31mNameError\u001b[39m                                 Traceback (most recent call last)",
      "\u001b[36mCell\u001b[39m\u001b[36m \u001b[39m\u001b[32mIn[7]\u001b[39m\u001b[32m, line 10\u001b[39m\n\u001b[32m      7\u001b[39m errors = []\n\u001b[32m      9\u001b[39m image = torch.from_numpy(image).cuda()\n\u001b[32m---> \u001b[39m\u001b[32m10\u001b[39m slm_field = torch.from_numpy(\u001b[43mslm_field\u001b[49m).cuda()\n\u001b[32m     12\u001b[39m \u001b[38;5;28;01mfor\u001b[39;00m i \u001b[38;5;129;01min\u001b[39;00m tqdm(\u001b[38;5;28mrange\u001b[39m(\u001b[32m200\u001b[39m)):\n\u001b[32m     13\u001b[39m     field_at_target_plane = fresnel_cuda(slm_field, lam, dx, z)\n",
      "\u001b[31mNameError\u001b[39m: name 'slm_field' is not defined"
     ]
    }
   ],
   "source": [
    "from tqdm import tqdm\n",
    "\n",
    "lam = 0.532 * um\n",
    "dx = 12.5 * um\n",
    "z = 100 * mm\n",
    "\n",
    "errors = []\n",
    "\n",
    "image = torch.from_numpy(image).cuda()\n",
    "slm_field = torch.from_numpy(slm_field).cuda()\n",
    "\n",
    "for i in tqdm(range(200)):\n",
    "    field_at_target_plane = fresnel_cuda(slm_field, lam, dx, z)\n",
    "    desired_field_at_target = torch.sqrt(image/torch.max(image)) * torch.exp(1j * torch.angle(field_at_target_plane))\n",
    "    field_at_slm_plane = fresnel_cuda(desired_field_at_target, lam, dx, -z)\n",
    "    slm_field = torch.exp(1j * torch.angle(field_at_slm_plane))\n",
    "    \n",
    "    if (i + 1) % 10 == 0:\n",
    "        print(f\"Iteration {i+1}/{200} completed.\")\n",
    "        # Optional: Calculate and display current reconstruction\n",
    "        current_reconstruction_field = fresnel_cuda(slm_field, lam, dx, z)\n",
    "        current_reconstruction_intensity = torch.abs(current_reconstruction_field)**2\n",
    "        \n",
    "        current = current_reconstruction_intensity.detach().cpu()\n",
    "        current = np.array(current)\n",
    "        target = target / np.max(target)\n",
    "        current = current / np.max(current)\n",
    "        \n",
    "        error = np.sum(np.abs(target-current)**2)/N/N\n",
    "        print(error)\n",
    "        \n",
    "        errors.append(error)\n",
    "\n",
    "image = image.detach().cpu()\n",
    "image = np.array(image)\n",
    "slm_field = slm_field.detach().cpu()\n",
    "slm_field = np.array(slm_field)\n",
    "        "
   ]
  },
  {
   "cell_type": "markdown",
   "id": "301f62b4",
   "metadata": {},
   "source": [
    "<h1> Hybrid Input Output </h1>"
   ]
  },
  {
   "cell_type": "code",
   "execution_count": 19,
   "id": "6bdeed40",
   "metadata": {},
   "outputs": [],
   "source": [
    "image = pattern.copy()"
   ]
  },
  {
   "cell_type": "code",
   "execution_count": 14,
   "id": "9c8e6fbf",
   "metadata": {},
   "outputs": [],
   "source": [
    "slm_phase = np.ones((N,N)) * np.pi\n",
    "slm_field = np.exp(1j * slm_phase)\n",
    "target = image.copy()"
   ]
  },
  {
   "cell_type": "code",
   "execution_count": 17,
   "id": "dab5a9f1",
   "metadata": {},
   "outputs": [
    {
     "name": "stderr",
     "output_type": "stream",
     "text": [
      "100%|██████████| 10/10 [00:00<00:00, 11.15it/s]"
     ]
    },
    {
     "name": "stdout",
     "output_type": "stream",
     "text": [
      "Iteration 10/200 completed.\n",
      "2.9141701575514257e-17\n"
     ]
    },
    {
     "name": "stderr",
     "output_type": "stream",
     "text": [
      "\n"
     ]
    }
   ],
   "source": [
    "from tqdm import tqdm\n",
    "\n",
    "lam = 0.532 * um\n",
    "dx = 12.5 * um\n",
    "z = 50 * mm\n",
    "\n",
    "errors = []\n",
    "\n",
    "image = torch.from_numpy(image).cuda()\n",
    "slm_field = torch.from_numpy(slm_field).cuda()\n",
    "\n",
    "for i in tqdm(range(10)):\n",
    "    field_at_target_plane = ASM_cuda(slm_field, lam, dx, z)\n",
    "    desired_field_at_target = torch.sqrt(image/torch.max(image)) * torch.exp(1j * torch.angle(field_at_target_plane))\n",
    "    update = ASM_cuda(desired_field_at_target, lam, dx, -z)\n",
    "    \n",
    "    mask = torch.zeros((N, N), dtype=bool).cuda()\n",
    "    mask[torch.imag(update) < 1] = True\n",
    "    slm_field[mask] = update[mask]\n",
    "    slm_field[~mask] = slm_field[~mask] - 0.9 * update[~mask]\n",
    "    if (i + 1) % 10 == 0:\n",
    "    # if i >= 0:\n",
    "        print(f\"Iteration {i+1}/{200} completed.\")\n",
    "        # Optional: Calculate and display current reconstruction\n",
    "        current_reconstruction_field = ASM_cuda(slm_field, lam, dx, z)\n",
    "        current_reconstruction_intensity = torch.abs(current_reconstruction_field)**2\n",
    "        \n",
    "        current = current_reconstruction_intensity.detach().cpu()\n",
    "        current = np.array(current)\n",
    "        target = target / np.max(target)\n",
    "        current = current / np.max(current)\n",
    "        \n",
    "        error = np.sum(np.abs(target-current)**2)/N/N\n",
    "        print(error)\n",
    "        \n",
    "        errors.append(error)\n",
    "\n",
    "image = image.detach().cpu()\n",
    "image = np.array(image)\n",
    "slm_field = slm_field.detach().cpu()\n",
    "slm_field = np.array(slm_field)\n",
    "        "
   ]
  },
  {
   "cell_type": "code",
   "execution_count": 18,
   "id": "2785e3df",
   "metadata": {},
   "outputs": [],
   "source": [
    "angle = np.angle(slm_field)\n",
    "angle = (angle - np.min(angle)) / (np.max(angle) - np.min(angle)) * 255\n",
    "angle = angle.astype('uint8')\n",
    "Image.fromarray(angle).save('test.png')"
   ]
  },
  {
   "cell_type": "code",
   "execution_count": 2,
   "id": "c3a8f722",
   "metadata": {},
   "outputs": [],
   "source": [
    "pattern = np.ones((600, 600)) * 255\n",
    "Image.fromarray(pattern.astype('uint8')).save('test.png')"
   ]
  }
 ],
 "metadata": {
  "kernelspec": {
   "display_name": "holo",
   "language": "python",
   "name": "python3"
  },
  "language_info": {
   "codemirror_mode": {
    "name": "ipython",
    "version": 3
   },
   "file_extension": ".py",
   "mimetype": "text/x-python",
   "name": "python",
   "nbconvert_exporter": "python",
   "pygments_lexer": "ipython3",
   "version": "3.12.9"
  }
 },
 "nbformat": 4,
 "nbformat_minor": 5
}
